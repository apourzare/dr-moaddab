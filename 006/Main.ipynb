{
 "cells": [
  {
   "cell_type": "code",
   "execution_count": 3,
   "id": "personalized-scale",
   "metadata": {},
   "outputs": [],
   "source": [
    "import pandas as pd"
   ]
  },
  {
   "cell_type": "code",
   "execution_count": 4,
   "id": "rocky-swing",
   "metadata": {},
   "outputs": [],
   "source": [
    "df = pd.read_csv('data.csv')"
   ]
  },
  {
   "cell_type": "code",
   "execution_count": 5,
   "id": "technological-jacksonville",
   "metadata": {},
   "outputs": [
    {
     "data": {
      "text/html": [
       "<div>\n",
       "<style scoped>\n",
       "    .dataframe tbody tr th:only-of-type {\n",
       "        vertical-align: middle;\n",
       "    }\n",
       "\n",
       "    .dataframe tbody tr th {\n",
       "        vertical-align: top;\n",
       "    }\n",
       "\n",
       "    .dataframe thead th {\n",
       "        text-align: right;\n",
       "    }\n",
       "</style>\n",
       "<table border=\"1\" class=\"dataframe\">\n",
       "  <thead>\n",
       "    <tr style=\"text-align: right;\">\n",
       "      <th></th>\n",
       "      <th>fname</th>\n",
       "      <th>lname</th>\n",
       "      <th>age</th>\n",
       "      <th>gender</th>\n",
       "      <th>height</th>\n",
       "      <th>weight</th>\n",
       "    </tr>\n",
       "  </thead>\n",
       "  <tbody>\n",
       "    <tr>\n",
       "      <th>0</th>\n",
       "      <td>amin</td>\n",
       "      <td>pourzare</td>\n",
       "      <td>31</td>\n",
       "      <td>male</td>\n",
       "      <td>178</td>\n",
       "      <td>86</td>\n",
       "    </tr>\n",
       "    <tr>\n",
       "      <th>1</th>\n",
       "      <td>ali</td>\n",
       "      <td>hassani</td>\n",
       "      <td>24</td>\n",
       "      <td>male</td>\n",
       "      <td>176</td>\n",
       "      <td>79</td>\n",
       "    </tr>\n",
       "    <tr>\n",
       "      <th>2</th>\n",
       "      <td>zahra</td>\n",
       "      <td>moghadam</td>\n",
       "      <td>26</td>\n",
       "      <td>female</td>\n",
       "      <td>168</td>\n",
       "      <td>63</td>\n",
       "    </tr>\n",
       "  </tbody>\n",
       "</table>\n",
       "</div>"
      ],
      "text/plain": [
       "   fname     lname  age  gender  height  weight\n",
       "0   amin  pourzare   31    male     178      86\n",
       "1    ali   hassani   24    male     176      79\n",
       "2  zahra  moghadam   26  female     168      63"
      ]
     },
     "execution_count": 5,
     "metadata": {},
     "output_type": "execute_result"
    }
   ],
   "source": [
    "df"
   ]
  },
  {
   "cell_type": "code",
   "execution_count": 7,
   "id": "north-railway",
   "metadata": {
    "collapsed": true
   },
   "outputs": [
    {
     "data": {
      "text/plain": [
       "pandas.core.frame.DataFrame"
      ]
     },
     "execution_count": 7,
     "metadata": {},
     "output_type": "execute_result"
    }
   ],
   "source": [
    "type(df)"
   ]
  },
  {
   "cell_type": "code",
   "execution_count": 8,
   "id": "pending-password",
   "metadata": {},
   "outputs": [
    {
     "name": "stdout",
     "output_type": "stream",
     "text": [
      "<class 'pandas.core.frame.DataFrame'>\n",
      "RangeIndex: 3 entries, 0 to 2\n",
      "Data columns (total 6 columns):\n",
      " #   Column  Non-Null Count  Dtype \n",
      "---  ------  --------------  ----- \n",
      " 0   fname   3 non-null      object\n",
      " 1   lname   3 non-null      object\n",
      " 2   age     3 non-null      int64 \n",
      " 3   gender  3 non-null      object\n",
      " 4   height  3 non-null      int64 \n",
      " 5   weight  3 non-null      int64 \n",
      "dtypes: int64(3), object(3)\n",
      "memory usage: 272.0+ bytes\n"
     ]
    }
   ],
   "source": [
    "df.info()"
   ]
  },
  {
   "cell_type": "code",
   "execution_count": 9,
   "id": "happy-indian",
   "metadata": {},
   "outputs": [
    {
     "data": {
      "text/plain": [
       "fname     object\n",
       "lname     object\n",
       "age        int64\n",
       "gender    object\n",
       "height     int64\n",
       "weight     int64\n",
       "dtype: object"
      ]
     },
     "execution_count": 9,
     "metadata": {},
     "output_type": "execute_result"
    }
   ],
   "source": [
    "df.dtypes"
   ]
  },
  {
   "cell_type": "code",
   "execution_count": 10,
   "id": "biblical-prayer",
   "metadata": {},
   "outputs": [
    {
     "data": {
      "text/plain": [
       "array([['amin', 'pourzare', 31, 'male', 178, 86],\n",
       "       ['ali', 'hassani', 24, 'male', 176, 79],\n",
       "       ['zahra', 'moghadam', 26, 'female', 168, 63]], dtype=object)"
      ]
     },
     "execution_count": 10,
     "metadata": {},
     "output_type": "execute_result"
    }
   ],
   "source": [
    "df.values"
   ]
  },
  {
   "cell_type": "code",
   "execution_count": 11,
   "id": "legitimate-finnish",
   "metadata": {},
   "outputs": [
    {
     "data": {
      "text/plain": [
       "numpy.ndarray"
      ]
     },
     "execution_count": 11,
     "metadata": {},
     "output_type": "execute_result"
    }
   ],
   "source": [
    "type(df.values)"
   ]
  },
  {
   "cell_type": "code",
   "execution_count": 12,
   "id": "diagnostic-attention",
   "metadata": {},
   "outputs": [
    {
     "data": {
      "text/plain": [
       "18"
      ]
     },
     "execution_count": 12,
     "metadata": {},
     "output_type": "execute_result"
    }
   ],
   "source": [
    "df.size"
   ]
  },
  {
   "cell_type": "code",
   "execution_count": 13,
   "id": "hispanic-australian",
   "metadata": {},
   "outputs": [
    {
     "data": {
      "text/plain": [
       "(3, 6)"
      ]
     },
     "execution_count": 13,
     "metadata": {},
     "output_type": "execute_result"
    }
   ],
   "source": [
    "df.shape"
   ]
  },
  {
   "cell_type": "code",
   "execution_count": 14,
   "id": "consecutive-responsibility",
   "metadata": {},
   "outputs": [
    {
     "data": {
      "text/plain": [
       "3"
      ]
     },
     "execution_count": 14,
     "metadata": {},
     "output_type": "execute_result"
    }
   ],
   "source": [
    "df.shape[0]"
   ]
  },
  {
   "cell_type": "code",
   "execution_count": 15,
   "id": "governmental-diameter",
   "metadata": {},
   "outputs": [
    {
     "data": {
      "text/plain": [
       "6"
      ]
     },
     "execution_count": 15,
     "metadata": {},
     "output_type": "execute_result"
    }
   ],
   "source": [
    "df.shape[1]"
   ]
  },
  {
   "cell_type": "code",
   "execution_count": 16,
   "id": "previous-ensemble",
   "metadata": {},
   "outputs": [],
   "source": [
    "df2 = df.copy()"
   ]
  },
  {
   "cell_type": "code",
   "execution_count": 17,
   "id": "common-slide",
   "metadata": {},
   "outputs": [
    {
     "data": {
      "text/html": [
       "<div>\n",
       "<style scoped>\n",
       "    .dataframe tbody tr th:only-of-type {\n",
       "        vertical-align: middle;\n",
       "    }\n",
       "\n",
       "    .dataframe tbody tr th {\n",
       "        vertical-align: top;\n",
       "    }\n",
       "\n",
       "    .dataframe thead th {\n",
       "        text-align: right;\n",
       "    }\n",
       "</style>\n",
       "<table border=\"1\" class=\"dataframe\">\n",
       "  <thead>\n",
       "    <tr style=\"text-align: right;\">\n",
       "      <th></th>\n",
       "      <th>fname</th>\n",
       "      <th>lname</th>\n",
       "      <th>age</th>\n",
       "      <th>gender</th>\n",
       "      <th>height</th>\n",
       "      <th>weight</th>\n",
       "    </tr>\n",
       "  </thead>\n",
       "  <tbody>\n",
       "    <tr>\n",
       "      <th>0</th>\n",
       "      <td>amin</td>\n",
       "      <td>pourzare</td>\n",
       "      <td>31</td>\n",
       "      <td>male</td>\n",
       "      <td>178</td>\n",
       "      <td>86</td>\n",
       "    </tr>\n",
       "    <tr>\n",
       "      <th>1</th>\n",
       "      <td>ali</td>\n",
       "      <td>hassani</td>\n",
       "      <td>24</td>\n",
       "      <td>male</td>\n",
       "      <td>176</td>\n",
       "      <td>79</td>\n",
       "    </tr>\n",
       "    <tr>\n",
       "      <th>2</th>\n",
       "      <td>zahra</td>\n",
       "      <td>moghadam</td>\n",
       "      <td>26</td>\n",
       "      <td>female</td>\n",
       "      <td>168</td>\n",
       "      <td>63</td>\n",
       "    </tr>\n",
       "  </tbody>\n",
       "</table>\n",
       "</div>"
      ],
      "text/plain": [
       "   fname     lname  age  gender  height  weight\n",
       "0   amin  pourzare   31    male     178      86\n",
       "1    ali   hassani   24    male     176      79\n",
       "2  zahra  moghadam   26  female     168      63"
      ]
     },
     "execution_count": 17,
     "metadata": {},
     "output_type": "execute_result"
    }
   ],
   "source": [
    "df2"
   ]
  },
  {
   "cell_type": "code",
   "execution_count": 18,
   "id": "knowing-ballot",
   "metadata": {},
   "outputs": [
    {
     "data": {
      "text/html": [
       "<div>\n",
       "<style scoped>\n",
       "    .dataframe tbody tr th:only-of-type {\n",
       "        vertical-align: middle;\n",
       "    }\n",
       "\n",
       "    .dataframe tbody tr th {\n",
       "        vertical-align: top;\n",
       "    }\n",
       "\n",
       "    .dataframe thead th {\n",
       "        text-align: right;\n",
       "    }\n",
       "</style>\n",
       "<table border=\"1\" class=\"dataframe\">\n",
       "  <thead>\n",
       "    <tr style=\"text-align: right;\">\n",
       "      <th></th>\n",
       "      <th>fname</th>\n",
       "      <th>lname</th>\n",
       "      <th>age</th>\n",
       "      <th>gender</th>\n",
       "      <th>height</th>\n",
       "      <th>weight</th>\n",
       "    </tr>\n",
       "  </thead>\n",
       "  <tbody>\n",
       "    <tr>\n",
       "      <th>0</th>\n",
       "      <td>amin</td>\n",
       "      <td>pourzare</td>\n",
       "      <td>31</td>\n",
       "      <td>male</td>\n",
       "      <td>178</td>\n",
       "      <td>86</td>\n",
       "    </tr>\n",
       "    <tr>\n",
       "      <th>1</th>\n",
       "      <td>ali</td>\n",
       "      <td>hassani</td>\n",
       "      <td>24</td>\n",
       "      <td>male</td>\n",
       "      <td>176</td>\n",
       "      <td>79</td>\n",
       "    </tr>\n",
       "    <tr>\n",
       "      <th>2</th>\n",
       "      <td>zahra</td>\n",
       "      <td>moghadam</td>\n",
       "      <td>26</td>\n",
       "      <td>female</td>\n",
       "      <td>168</td>\n",
       "      <td>63</td>\n",
       "    </tr>\n",
       "  </tbody>\n",
       "</table>\n",
       "</div>"
      ],
      "text/plain": [
       "   fname     lname  age  gender  height  weight\n",
       "0   amin  pourzare   31    male     178      86\n",
       "1    ali   hassani   24    male     176      79\n",
       "2  zahra  moghadam   26  female     168      63"
      ]
     },
     "execution_count": 18,
     "metadata": {},
     "output_type": "execute_result"
    }
   ],
   "source": [
    "df2.head()"
   ]
  },
  {
   "cell_type": "code",
   "execution_count": 19,
   "id": "dangerous-passenger",
   "metadata": {},
   "outputs": [
    {
     "data": {
      "text/plain": [
       "'male'"
      ]
     },
     "execution_count": 19,
     "metadata": {},
     "output_type": "execute_result"
    }
   ],
   "source": [
    "df.at[1, 'gender']"
   ]
  },
  {
   "cell_type": "code",
   "execution_count": 20,
   "id": "twenty-mailman",
   "metadata": {},
   "outputs": [
    {
     "data": {
      "text/plain": [
       "fname        zahra\n",
       "lname     pourzare\n",
       "age             31\n",
       "gender        male\n",
       "height         178\n",
       "weight          86\n",
       "dtype: object"
      ]
     },
     "execution_count": 20,
     "metadata": {},
     "output_type": "execute_result"
    }
   ],
   "source": [
    "df.max()"
   ]
  },
  {
   "cell_type": "code",
   "execution_count": 21,
   "id": "protecting-living",
   "metadata": {},
   "outputs": [
    {
     "data": {
      "text/plain": [
       "{'fname': {0: 'amin', 1: 'ali', 2: 'zahra'},\n",
       " 'lname': {0: 'pourzare', 1: 'hassani', 2: 'moghadam'},\n",
       " 'age': {0: 31, 1: 24, 2: 26},\n",
       " 'gender': {0: 'male', 1: 'male', 2: 'female'},\n",
       " 'height': {0: 178, 1: 176, 2: 168},\n",
       " 'weight': {0: 86, 1: 79, 2: 63}}"
      ]
     },
     "execution_count": 21,
     "metadata": {},
     "output_type": "execute_result"
    }
   ],
   "source": [
    "df.to_dict()"
   ]
  },
  {
   "cell_type": "code",
   "execution_count": 25,
   "id": "planned-sponsorship",
   "metadata": {},
   "outputs": [
    {
     "data": {
      "text/plain": [
       "[31, 24, 26]"
      ]
     },
     "execution_count": 25,
     "metadata": {},
     "output_type": "execute_result"
    }
   ],
   "source": [
    "dict_a = df.to_dict()\n",
    "age_list = []\n",
    "for i in dict_a['age'].values():\n",
    "    age_list.append(i)\n",
    "age_list"
   ]
  },
  {
   "cell_type": "code",
   "execution_count": 27,
   "id": "better-diving",
   "metadata": {},
   "outputs": [
    {
     "data": {
      "text/plain": [
       "{'fname': {0: 'amin', 1: 'ali', 2: 'zahra'},\n",
       " 'lname': {0: 'pourzare', 1: 'hassani', 2: 'moghadam'},\n",
       " 'age': {0: 31, 1: 24, 2: 26},\n",
       " 'gender': {0: 'male', 1: 'male', 2: 'female'},\n",
       " 'height': {0: 178, 1: 176, 2: 168},\n",
       " 'weight': {0: 86, 1: 79, 2: 63}}"
      ]
     },
     "execution_count": 27,
     "metadata": {},
     "output_type": "execute_result"
    }
   ],
   "source": [
    "data = df.to_dict()\n",
    "data"
   ]
  },
  {
   "cell_type": "code",
   "execution_count": 51,
   "id": "future-concord",
   "metadata": {},
   "outputs": [
    {
     "name": "stdout",
     "output_type": "stream",
     "text": [
      "[{0: 'amin', 1: 'ali', 2: 'zahra'}, {0: 'pourzare', 1: 'hassani', 2: 'moghadam'}, {0: 31, 1: 24, 2: 26}, {0: 'male', 1: 'male', 2: 'female'}, {0: 178, 1: 176, 2: 168}, {0: 86, 1: 79, 2: 63}]\n",
      "6\n"
     ]
    },
    {
     "data": {
      "text/plain": [
       "{'pourzare': None, 'hassani': None, 'moghadam': None}"
      ]
     },
     "execution_count": 51,
     "metadata": {},
     "output_type": "execute_result"
    }
   ],
   "source": [
    "list_a = []\n",
    "for i in data.values():\n",
    "    list_a.append(i)\n",
    "print(list_a)\n",
    "print(len(list_a))\n",
    "\n",
    "dict_pt = {}\n",
    "for i in range(len(list_a[1])):\n",
    "    dict_pt[list_a[1][i]] = None\n",
    "dict_pt"
   ]
  },
  {
   "cell_type": "code",
   "execution_count": 58,
   "id": "north-means",
   "metadata": {},
   "outputs": [
    {
     "data": {
      "text/plain": [
       "3"
      ]
     },
     "execution_count": 58,
     "metadata": {},
     "output_type": "execute_result"
    }
   ],
   "source": [
    "list_pt = []\n",
    "for i in range(len(list_a)):\n",
    "#     dict_pt[list_a[1][i]]\n",
    "    list_pt.append(list_a[i][0])\n",
    "list_pt\n",
    "len(list_a[1])"
   ]
  },
  {
   "cell_type": "code",
   "execution_count": null,
   "id": "dynamic-union",
   "metadata": {},
   "outputs": [],
   "source": []
  }
 ],
 "metadata": {
  "kernelspec": {
   "display_name": "Python 3",
   "language": "python",
   "name": "python3"
  },
  "language_info": {
   "codemirror_mode": {
    "name": "ipython",
    "version": 3
   },
   "file_extension": ".py",
   "mimetype": "text/x-python",
   "name": "python",
   "nbconvert_exporter": "python",
   "pygments_lexer": "ipython3",
   "version": "3.8.5"
  }
 },
 "nbformat": 4,
 "nbformat_minor": 5
}
